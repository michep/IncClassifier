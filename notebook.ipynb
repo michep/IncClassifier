{
 "cells": [
  {
   "cell_type": "code",
   "execution_count": 1,
   "metadata": {
    "collapsed": true
   },
   "outputs": [],
   "source": [
    "import pickle\n",
    "import io\n",
    "import pandas\n",
    "import helper\n",
    "import pprint\n",
    "\n",
    "f = io.open(\"./model.pkl\", \"rb\")\n",
    "MODEL = pickle.load(f)\n",
    "f.close()\n",
    "test = pandas.read_csv(\"c:/temp/svm/test.csv\")\n",
    "\n",
    "vectorizer = MODEL[\"Tfidf\"]\n",
    "classifier = MODEL[\"PassiveAggressive\"][\"OperCat\"]\n",
    "test[\"NormText\"] = test[\"Text\"].apply(helper.normalize_str)\n",
    "\n",
    "X_test = vectorizer.transform(test[\"NormText\"])\n"
   ]
  },
  {
   "cell_type": "code",
   "execution_count": null,
   "metadata": {
    "collapsed": true
   },
   "outputs": [],
   "source": [
    "ress = zip(MODEL[\"PassiveAggressive\"][\"OperCat\"].predict(X_test),\n",
    "           MODEL[\"PassiveAggressive\"][\"ProdCat\"].predict(X_test),\n",
    "           MODEL[\"PassiveAggressive\"][\"Impact\"].predict(X_test),\n",
    "           MODEL[\"PassiveAggressive\"][\"Type\"].predict(X_test))\n",
    "pprint.pprint(list(ress))"
   ]
  },
  {
   "cell_type": "code",
   "execution_count": 3,
   "metadata": {
    "collapsed": false
   },
   "outputs": [
    {
     "data": {
      "text/plain": [
       "6"
      ]
     },
     "execution_count": 3,
     "metadata": {},
     "output_type": "execute_result"
    }
   ],
   "source": [
    "len(test)"
   ]
  },
  {
   "cell_type": "code",
   "execution_count": 5,
   "metadata": {
    "collapsed": true
   },
   "outputs": [],
   "source": [
    "from suds.client import Client"
   ]
  },
  {
   "cell_type": "code",
   "execution_count": 6,
   "metadata": {
    "collapsed": true
   },
   "outputs": [],
   "source": [
    "с = Client('http://localhost:8000/?wsdl')"
   ]
  },
  {
   "cell_type": "code",
   "execution_count": 25,
   "metadata": {
    "collapsed": false
   },
   "outputs": [],
   "source": [
    "res = с.service.classify(\"тырыпыры\")"
   ]
  },
  {
   "cell_type": "code",
   "execution_count": 43,
   "metadata": {
    "collapsed": false
   },
   "outputs": [],
   "source": [
    "import numpy"
   ]
  },
  {
   "cell_type": "code",
   "execution_count": 45,
   "metadata": {
    "collapsed": false
   },
   "outputs": [],
   "source": [
    "ares = numpy.array(res)"
   ]
  },
  {
   "cell_type": "code",
   "execution_count": 50,
   "metadata": {
    "collapsed": false
   },
   "outputs": [],
   "source": [
    "a = ares[:,1]"
   ]
  },
  {
   "cell_type": "code",
   "execution_count": 62,
   "metadata": {
    "collapsed": false
   },
   "outputs": [
    {
     "data": {
      "text/plain": [
       "['Выход из строя--',\n",
       " 'Программное обеспечение-Централизованное ПО-SAP ERP (финансы)-Банковские операции-Создание документов (ТАП) на оплату комиссий по банковским инструментам',\n",
       " 'Minor',\n",
       " 'Incident']"
      ]
     },
     "execution_count": 62,
     "metadata": {},
     "output_type": "execute_result"
    }
   ],
   "source": [
    "a.tolist()"
   ]
  },
  {
   "cell_type": "code",
   "execution_count": 64,
   "metadata": {
    "collapsed": true
   },
   "outputs": [],
   "source": [
    "from xml.sax.saxutils import escape"
   ]
  },
  {
   "cell_type": "code",
   "execution_count": 70,
   "metadata": {
    "collapsed": false
   },
   "outputs": [],
   "source": [
    "s = \"1        Последняя ошибка:        \u0001I20.11\""
   ]
  },
  {
   "cell_type": "code",
   "execution_count": 72,
   "metadata": {
    "collapsed": false
   },
   "outputs": [
    {
     "data": {
      "text/plain": [
       "b'1         :        \\x01I20.11'"
      ]
     },
     "execution_count": 72,
     "metadata": {},
     "output_type": "execute_result"
    }
   ],
   "source": [
    "s.encode(\"ascii\", errors=\"ignore\")"
   ]
  }
 ],
 "metadata": {
  "kernelspec": {
   "display_name": "Python 3",
   "language": "python",
   "name": "python3"
  },
  "language_info": {
   "codemirror_mode": {
    "name": "ipython",
    "version": 3
   },
   "file_extension": ".py",
   "mimetype": "text/x-python",
   "name": "python",
   "nbconvert_exporter": "python",
   "pygments_lexer": "ipython3",
   "version": "3.5.2"
  }
 },
 "nbformat": 4,
 "nbformat_minor": 1
}
